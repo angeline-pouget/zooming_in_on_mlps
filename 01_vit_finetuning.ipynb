{
 "cells": [
  {
   "cell_type": "markdown",
   "metadata": {},
   "source": [
    "# Finetuning ViT-S/16 on CIFAR-10 and CIFAR-100"
   ]
  },
  {
   "cell_type": "code",
   "execution_count": null,
   "metadata": {},
   "outputs": [],
   "source": [
    "import torch\n",
    "import torch.nn as nn\n",
    "from torchsummary import summary\n",
    "import torchvision.transforms as T\n",
    "import timm\n",
    "from tqdm import tqdm\n",
    "\n",
    "from data_utils.data_stats import *\n",
    "from data_utils.dataloader import get_loader\n",
    "from utils.metrics import topk_acc, AverageMeter"
   ]
  },
  {
   "cell_type": "markdown",
   "metadata": {},
   "source": [
    "### Retrain classifier"
   ]
  },
  {
   "cell_type": "code",
   "execution_count": null,
   "metadata": {},
   "outputs": [],
   "source": [
    "# This code works for either cifar10 or cifar100\n",
    "dataset_name = \"cifar10\"\n",
    "data_path = '/scratch/data/ffcv/'\n",
    "\n",
    "# Import pretrained ViT model from timm\n",
    "model = timm.create_model(\"vit_small_patch16_224\", pretrained=True)\n",
    "\n",
    "# Freeze all model weights\n",
    "for param in model.parameters():\n",
    "    param.requires_grad = False\n",
    "\n",
    "# Replace the last layer with a new layer that has the correct number of outputs\n",
    "outputs_attrs = int(dataset_name.split(\"r\")[1])\n",
    "num_inputs = model.head.in_features\n",
    "last_layer = nn.Linear(num_inputs, outputs_attrs)\n",
    "model.head = last_layer\n",
    "\n",
    "summary(model, (3, 224, 224))"
   ]
  },
  {
   "cell_type": "code",
   "execution_count": null,
   "metadata": {},
   "outputs": [],
   "source": [
    "optimizer = torch.optim.AdamW(model.parameters())\n",
    "loss_function = nn.CrossEntropyLoss()\n",
    "\n",
    "device = torch.device(\"cuda:0\" if torch.cuda.is_available() else \"cpu\")\n",
    "\n",
    "# Get the dataloader for the dataset\n",
    "loader = get_loader(\n",
    "    dataset_name,\n",
    "    bs=1024,\n",
    "    mode=\"train\",\n",
    "    augment=True,\n",
    "    dev=device,\n",
    "    mixup=0.0,\n",
    "    data_path=data_path,\n",
    "    data_resolution=32,\n",
    "    crop_resolution=32,\n",
    ")\n",
    "\n",
    "# Train weights for the linear layer for 7 epochs, resizing the input images\n",
    "num_epochs = 7\n",
    "\n",
    "for _ in range(num_epochs):\n",
    "    for ims, targs in tqdm(loader, desc=\"Training\"):\n",
    "        ims = T.functional.resize(ims, size=(224, 224))\n",
    "        optimizer.zero_grad()\n",
    "        outputs = model(ims)\n",
    "        loss = loss_function(outputs, targs)\n",
    "        loss.backward()\n",
    "        optimizer.step()\n",
    "\n",
    "torch.save(model, f'vit_models/vit_small_patch16_224_{dataset_name}_{num_epochs}.pth')"
   ]
  },
  {
   "cell_type": "markdown",
   "metadata": {},
   "source": [
    "### Evaluate model accuracy"
   ]
  },
  {
   "cell_type": "code",
   "execution_count": null,
   "metadata": {},
   "outputs": [],
   "source": [
    "# Define a test function that evaluates test accuracy\n",
    "@torch.no_grad()\n",
    "def test(model, loader):\n",
    "    model.eval()\n",
    "    total_acc, total_top5 = AverageMeter(), AverageMeter()\n",
    "\n",
    "    for ims, targs in tqdm(loader, desc=\"Evaluation\"):\n",
    "        ims = T.functional.resize(ims, size=(224, 224))\n",
    "        preds = model(ims)\n",
    "        acc, top5 = topk_acc(preds, targs, k=5, avg=True)\n",
    "\n",
    "        total_acc.update(acc, ims.shape[0])\n",
    "        total_top5.update(top5, ims.shape[0])\n",
    "\n",
    "    return (\n",
    "        total_acc.get_avg(percentage=True),\n",
    "        total_top5.get_avg(percentage=True),\n",
    "    )"
   ]
  },
  {
   "cell_type": "code",
   "execution_count": null,
   "metadata": {},
   "outputs": [],
   "source": [
    "model = torch.load(f'vit_models/vit_small_patch16_224_{dataset_name}_{num_epochs}.pth')\n",
    "\n",
    "data_loader = get_loader(\n",
    "    dataset_name,\n",
    "    bs=128,\n",
    "    mode=\"test\",\n",
    "    augment=False,\n",
    "    dev=device,\n",
    "    mixup=0.0,\n",
    "    data_path=data_path,\n",
    "    data_resolution=32,\n",
    "    crop_resolution=32,\n",
    ")\n",
    "test_acc, test_top5 = test(model, data_loader)\n",
    "\n",
    "# Print all the results\n",
    "print(\"Test Accuracy        \", \"{:.4f}\".format(test_acc))\n",
    "print(\"Top 5 Test Accuracy          \", \"{:.4f}\".format(test_top5))"
   ]
  }
 ],
 "metadata": {
  "kernelspec": {
   "display_name": "ffcv",
   "language": "python",
   "name": "python3"
  },
  "language_info": {
   "codemirror_mode": {
    "name": "ipython",
    "version": 3
   },
   "file_extension": ".py",
   "mimetype": "text/x-python",
   "name": "python",
   "nbconvert_exporter": "python",
   "pygments_lexer": "ipython3",
   "version": "3.9.18"
  }
 },
 "nbformat": 4,
 "nbformat_minor": 2
}
