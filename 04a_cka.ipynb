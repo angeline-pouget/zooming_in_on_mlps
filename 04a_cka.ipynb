{
 "cells": [
  {
   "cell_type": "code",
   "execution_count": 25,
   "metadata": {},
   "outputs": [
    {
     "name": "stdout",
     "output_type": "stream",
     "text": [
      "The autoreload extension is already loaded. To reload it, use:\n",
      "  %reload_ext autoreload\n"
     ]
    }
   ],
   "source": [
    "# These two lines ensure that we always import the latest version of a package, in case it has been modified.\n",
    "%load_ext autoreload\n",
    "%autoreload 2\n",
    "\n",
    "import timm\n",
    "import torch\n",
    "import detectors\n",
    "from utils import cka as CKA"
   ]
  },
  {
   "cell_type": "code",
   "execution_count": 28,
   "metadata": {},
   "outputs": [],
   "source": [
    "import os\n",
    "from tqdm import tqdm\n",
    "\n",
    "from data_utils.data_stats import *\n",
    "from models.networks import get_model\n",
    "from data_utils.dataloader import get_loader\n",
    "from data_utils.dataset_to_beton import get_dataset"
   ]
  },
  {
   "cell_type": "code",
   "execution_count": 32,
   "metadata": {},
   "outputs": [],
   "source": [
    "# define important parameters\n",
    "\n",
    "dataset         = 'cifar10'               # One of cifar10, cifar100, stl10, imagenet or imagenet21\n",
    "num_classes     = CLASS_DICT[dataset]\n",
    "data_path       = '/scratch/data/ffcv'\n",
    "model_path      = '/scratch/zooming_in_on_mlps/vit_models'\n",
    "eval_batch_size = 32\n",
    "data_resolution = 32 \n",
    "checkpoint      = None\n",
    "\n",
    "cka_internal    = True \n",
    "\n",
    "#model1_type     = 'mlp'                   \n",
    "#checkpoint      = 'in21k_cifar10'       \n",
    "#architecture    = 'B_12-Wi_1024'        \n",
    "#crop_resolution = 64            \n",
    "\n",
    "#model1_type     = 'cnn'               \n",
    "#architecture    = 'resnet18_' + dataset                      \n",
    "#crop_resolution = 32\n",
    "\n",
    "model1_type     = 'vit'                  \n",
    "architecture    = 'vit_small_patch16_224_' + dataset + '_7.pth'        \n",
    "crop_resolution = 224          \n",
    "\n",
    "\n",
    "# model 2\n",
    "#model2_type      = 'cnn'\n",
    "#architecture2    = 'resnet18_' + dataset\n",
    "#crop_resolution2 = 32\n",
    "\n",
    "model2_type      = 'vit'\n",
    "crop_resolution2 = 224\n",
    "architecture2    = 'vit_small_patch16_224_' + dataset + '_v7.pth'"
   ]
  },
  {
   "cell_type": "code",
   "execution_count": 33,
   "metadata": {},
   "outputs": [],
   "source": [
    "def get_models_full(model_type, \n",
    "                    architecture, \n",
    "                    resolution  = crop_resolution, \n",
    "                    num_classes = CLASS_DICT[dataset], \n",
    "                    checkpoint  = checkpoint, \n",
    "                    model_path   = model_path):\n",
    "    if model_type == 'mlp':\n",
    "        model = get_model(architecture=architecture, resolution = resolution, \n",
    "                          num_classes=num_classes,checkpoint= checkpoint)\n",
    "    elif model_type == 'cnn':\n",
    "        model = timm.create_model(architecture, pretrained=True)\n",
    "    elif model_type == 'vit':\n",
    "        model = torch.load(os.path.join(model_path, architecture))\n",
    "    return model"
   ]
  },
  {
   "cell_type": "code",
   "execution_count": 34,
   "metadata": {},
   "outputs": [],
   "source": [
    "# load the models\n",
    "torch.backends.cuda.matmul.allow_tf32 = True\n",
    "device = torch.device(\"cuda:0\" if torch.cuda.is_available() else \"cpu\")\n",
    "\n",
    "model1 = get_models_full(model1_type, architecture)\n",
    "if cka_internal == False:\n",
    "    model2 = get_models_full(model2_type, architecture2)\n",
    "    "
   ]
  },
  {
   "cell_type": "code",
   "execution_count": 35,
   "metadata": {},
   "outputs": [
    {
     "name": "stdout",
     "output_type": "stream",
     "text": [
      "Loading /scratch/data/ffcv/cifar10/val_32.beton\n"
     ]
    }
   ],
   "source": [
    "# Get the custom test loader need to take care of different image sizes. Now fixed only for mlp with 64x64\n",
    "if cka_internal == True:\n",
    "    loader = get_loader(\n",
    "        dataset,\n",
    "        bs=eval_batch_size,\n",
    "        mode=\"test\",\n",
    "        augment=False,\n",
    "        dev=device,\n",
    "        mixup=0.0,\n",
    "        data_path=data_path,\n",
    "        data_resolution=data_resolution,\n",
    "        crop_resolution=crop_resolution,\n",
    "    )\n",
    "else:\n",
    "    loader1 = get_loader(\n",
    "        dataset,\n",
    "        bs=eval_batch_size,\n",
    "        mode=\"test\",\n",
    "        augment=False,\n",
    "        dev=device,\n",
    "        mixup=0.0,\n",
    "        data_path=data_path,\n",
    "        data_resolution=data_resolution,\n",
    "        crop_resolution=crop_resolution,\n",
    "    )\n",
    "    loader2 = get_loader(\n",
    "        dataset,\n",
    "        bs=eval_batch_size,\n",
    "        mode=\"test\",\n",
    "        augment=False,\n",
    "        dev=device,\n",
    "        mixup=0.0,\n",
    "        data_path=data_path,\n",
    "        data_resolution=data_resolution,\n",
    "        crop_resolution=crop_resolution2,\n",
    "    )"
   ]
  },
  {
   "cell_type": "code",
   "execution_count": 37,
   "metadata": {},
   "outputs": [],
   "source": [
    "@torch.no_grad()\n",
    "def compute_cka_internal(model, loader, cka, model_type):\n",
    "\n",
    "    model.eval()\n",
    "    #register hooks\n",
    "    activations = {} \n",
    "    CKA.register_hooks(model, activations, model_type)\n",
    "    i = 0 \n",
    "    for ims, targs in tqdm(loader, desc=\"Evaluation\"):\n",
    "        if model_type == 'mlp': ims   = torch.reshape(ims, (ims.shape[0], -1))\n",
    "        CKA.process_batch(model, ims, cka, activations)\n",
    "        i += 1\n",
    "    return cka.result()"
   ]
  },
  {
   "cell_type": "code",
   "execution_count": 38,
   "metadata": {},
   "outputs": [],
   "source": [
    "@torch.no_grad()\n",
    "def compute_cka_across(model1, model2, loader, loader2, cka, model1_type, model2_type):\n",
    "\n",
    "    model1.eval()\n",
    "    model2.eval()\n",
    "    #register hooks\n",
    "    activations1 = {}\n",
    "    activations2 = {} \n",
    "    CKA.register_hooks(model1, activations1, model1_type)\n",
    "    CKA.register_hooks(model2, activations2, model2_type)\n",
    "\n",
    "    k = 0\n",
    "    for i, (ims, targs) in enumerate(tqdm(loader, desc=\"Evaluation\")):\n",
    "        for j, (ims2, targs2) in enumerate(loader2):\n",
    "            \n",
    "            if i != j:  continue\n",
    "            assert torch.equal(targs,targs2), f'Mismatch in batches {i}, {j}'\n",
    "            print(targs)\n",
    "            if model1_type == 'mlp': \n",
    "                ims   = torch.reshape(ims, (ims.shape[0], -1))\n",
    "            if model2_type == 'mlp':\n",
    "                ims2 = torch.reshape(ims2, (ims2.shape[0], -1))\n",
    "            \n",
    "            acts1 = CKA.get_activations(ims, model1, activations1)\n",
    "            acts2 = CKA.get_activations(ims2, model2, activations2)\n",
    "            cka.update_state_across_models(acts1, acts2)\n",
    "            break \n",
    "    return cka.result()"
   ]
  },
  {
   "cell_type": "code",
   "execution_count": 39,
   "metadata": {},
   "outputs": [
    {
     "name": "stdout",
     "output_type": "stream",
     "text": [
      "The parameter cka_internal has value True\n"
     ]
    },
    {
     "name": "stderr",
     "output_type": "stream",
     "text": [
      "Evaluation:   0%|          | 0/313 [00:00<?, ?it/s]"
     ]
    },
    {
     "name": "stderr",
     "output_type": "stream",
     "text": [
      "Evaluation:  19%|█▉        | 60/313 [06:39<28:04,  6.66s/it]\n"
     ]
    },
    {
     "data": {
      "image/png": "[encoded data removed]",
      "text/plain": [
       "<Figure size 640x480 with 2 Axes>"
      ]
     },
     "metadata": {},
     "output_type": "display_data"
    }
   ],
   "source": [
    "import matplotlib.pyplot as plt\n",
    "\n",
    "print(\"The parameter cka_internal has value\", cka_internal)\n",
    "if cka_internal:\n",
    "    _, n_layers = CKA.find_layers(model1, model1_type)\n",
    "    cka         = CKA.MinibatchCKA(n_layers, None, across_models=False)\n",
    "    heatmap     = compute_cka_internal(model1, loader, cka, model1_type) \n",
    "else:\n",
    "    _, n_layers1 = CKA.find_layers(model1, model1_type)\n",
    "    _, n_layers2 = CKA.find_layers(model2, model2_type)\n",
    "\n",
    "    cka          = CKA.MinibatchCKA(n_layers1, n_layers2, across_models=True)\n",
    "    heatmap      = compute_cka_across(model1, model2, loader1, loader2, cka, model1_type, model2_type)\n",
    "\n",
    "heatmap = heatmap.numpy()\n",
    "plt.imshow(heatmap, cmap = 'magma', origin = 'lower')\n",
    "plt.xlabel('Layer #')\n",
    "plt.ylabel('Layer #')\n",
    "if cka_internal:\n",
    "    if model1_type == 'mlp':\n",
    "        tit = 'MLP'\n",
    "    if model1_type == 'cnn':\n",
    "        tit = 'CNN'\n",
    "    if model1_type == 'vit':\n",
    "        tit = 'ViT'\n",
    "    plt.title(f'CKA visualization for model {tit}')\n",
    "else:\n",
    "    plt.title(f'CKA across model {model1_type} and {model2_type}')\n",
    "plt.colorbar()\n",
    "plt.show()"
   ]
  },
  {
   "cell_type": "code",
   "execution_count": null,
   "metadata": {},
   "outputs": [],
   "source": []
  }
 ],
 "metadata": {
  "kernelspec": {
   "display_name": "ffcv",
   "language": "python",
   "name": "python3"
  },
  "language_info": {
   "codemirror_mode": {
    "name": "ipython",
    "version": 3
   },
   "file_extension": ".py",
   "mimetype": "text/x-python",
   "name": "python",
   "nbconvert_exporter": "python",
   "pygments_lexer": "ipython3",
   "version": "3.9.18"
  }
 },
 "nbformat": 4,
 "nbformat_minor": 2
}
