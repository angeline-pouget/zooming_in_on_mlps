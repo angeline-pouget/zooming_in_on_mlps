{
 "cells": [
  {
   "cell_type": "code",
   "execution_count": 1,
   "metadata": {},
   "outputs": [
    {
     "name": "stderr",
     "output_type": "stream",
     "text": [
      "/home/kvergopoulos/miniconda3/envs/ffcv/lib/python3.9/site-packages/tqdm/auto.py:22: TqdmWarning: IProgress not found. Please update jupyter and ipywidgets. See https://ipywidgets.readthedocs.io/en/stable/user_install.html\n",
      "  from .autonotebook import tqdm as notebook_tqdm\n"
     ]
    }
   ],
   "source": [
    "import os\n",
    "\n",
    "import torch\n",
    "from tqdm import tqdm\n",
    "from ffcv.writer import DatasetWriter\n",
    "from ffcv.fields import BytesField, IntField, RGBImageField\n",
    "\n",
    "from data_utils.data_stats import *\n",
    "from models.networks import get_model\n",
    "from data_utils.dataloader import get_loader\n",
    "from data_utils.dataset_to_beton import get_dataset\n",
    "from data_utils import texture_shape_transformations as ts\n",
    "from utils.metrics import topk_acc, real_acc, AverageMeter"
   ]
  },
  {
   "cell_type": "code",
   "execution_count": 14,
   "metadata": {},
   "outputs": [],
   "source": [
    "dataset         = 'cifar10'         # One of cifar10, cifar100, stl10, imagenet or imagenet21\n",
    "architecture    = 'B_12-Wi_1024'\n",
    "data_resolution = 32                # Resolution of data as it is stored\n",
    "crop_resolution = 64                # Resolution of fine-tuned model (64 for all models we provide)\n",
    "num_classes     = CLASS_DICT[dataset]\n",
    "data_path       = '/scratch/ffcv'\n",
    "eval_batch_size = 1024\n",
    "checkpoint      = 'in21k_imagenet'   # This means you want the network pre-trained on ImageNet21k and finetuned on CIFAR10\n",
    "device          = torch.device(\"cuda:0\" if torch.cuda.is_available() else \"cpu\")\n",
    "\n",
    "# texture shape specific parameter\n",
    "dataset_type    = 'edged' # occluded, shuffled, grayscale, edged, stylized"
   ]
  },
  {
   "cell_type": "code",
   "execution_count": null,
   "metadata": {},
   "outputs": [],
   "source": [
    "torch.backends.cuda.matmul.allow_tf32 = True\n",
    "device = torch.device(\"cuda:0\" if torch.cuda.is_available() else \"cpu\")\n",
    "\n",
    "# Define the model and specify the pre-trained weights\n",
    "model = get_model(architecture=architecture, resolution=crop_resolution, num_classes=CLASS_DICT[dataset],\n",
    "                  checkpoint= checkpoint)\n",
    "#model.cuda()"
   ]
  },
  {
   "cell_type": "code",
   "execution_count": 15,
   "metadata": {},
   "outputs": [
    {
     "name": "stdout",
     "output_type": "stream",
     "text": [
      "Loading /scratch/ffcv/cifar10/val_32.beton\n"
     ]
    }
   ],
   "source": [
    "# Get the test loader\n",
    "loader = ts.get_Shapeloader(\n",
    "        dataset   = dataset,\n",
    "        bs        = eval_batch_size,\n",
    "        mode      = \"test\",\n",
    "        augment   = \"False\",\n",
    "        dev       = device,\n",
    "        mixup     = 0.0,\n",
    "        data_path = data_path,\n",
    "        data_resolution = data_resolution,\n",
    "        crop_resolution = crop_resolution,\n",
    "        dataset_type    = dataset_type\n",
    "        )"
   ]
  },
  {
   "cell_type": "code",
   "execution_count": 16,
   "metadata": {},
   "outputs": [
    {
     "name": "stdout",
     "output_type": "stream",
     "text": [
      "torch.Size([1024, 3, 64, 64]) torch.Size([1024])\n",
      "(3, 64, 64)\n"
     ]
    },
    {
     "data": {
      "image/png": "[encoded data removed]",
      "text/plain": [
       "<Figure size 640x480 with 1 Axes>"
      ]
     },
     "metadata": {},
     "output_type": "display_data"
    }
   ],
   "source": [
    "# image viewing\n",
    "import matplotlib.pyplot as plt\n",
    "\n",
    "with torch.no_grad():\n",
    "    dataiter    = iter(loader)\n",
    "    ims, labels = next(dataiter)\n",
    "    img_to_show = ims[225]\n",
    "    print(ims.shape, labels.shape)\n",
    "    \n",
    "    if not isinstance(img_to_show, np.ndarray):\n",
    "        img_to_show = img_to_show.numpy()\n",
    "    \n",
    "    print(img_to_show.shape)\n",
    "    # for shuffled images need to add .astype(np.uint8)\n",
    "    plt.imshow(img_to_show.T)"
   ]
  },
  {
   "cell_type": "code",
   "execution_count": null,
   "metadata": {},
   "outputs": [],
   "source": [
    "# Define a test function that evaluates test accuracy\n",
    "# run this with different texture shape transformations \n",
    "# and keep the acc for each category.\n",
    "@torch.no_grad()\n",
    "def test(model, loader):\n",
    "    model.eval()\n",
    "    total_acc, total_top5 = AverageMeter(), AverageMeter()\n",
    "\n",
    "    for ims, targs in tqdm(loader, desc=\"Evaluation\"):\n",
    "        ims = torch.reshape(ims, (ims.shape[0], -1))\n",
    "        preds = model(ims)\n",
    "\n",
    "        if dataset != 'imagenet_real':\n",
    "            acc, top5 = topk_acc(preds, targs, k=5, avg=True)\n",
    "        else:\n",
    "            acc = real_acc(preds, targs, k=5, avg=True)\n",
    "            top5 = 0\n",
    "            \n",
    "        total_acc.update(acc, ims.shape[0])\n",
    "        total_top5.update(top5, ims.shape[0])\n",
    "\n",
    "\n",
    "    return (\n",
    "        total_acc.get_avg(percentage=True),\n",
    "        total_top5.get_avg(percentage=True),\n",
    "    )"
   ]
  },
  {
   "cell_type": "code",
   "execution_count": null,
   "metadata": {},
   "outputs": [],
   "source": [
    "test_acc, test_top5 = test(model, loader)\n",
    "\n",
    "# Print all the stats\n",
    "print(\"Test Accuracy        \", \"{:.4f}\".format(test_acc))\n",
    "print(\"Top 5 Test Accuracy          \", \"{:.4f}\".format(test_top5))"
   ]
  }
 ],
 "metadata": {
  "kernelspec": {
   "display_name": "ffcv",
   "language": "python",
   "name": "python3"
  },
  "language_info": {
   "codemirror_mode": {
    "name": "ipython",
    "version": 3
   },
   "file_extension": ".py",
   "mimetype": "text/x-python",
   "name": "python",
   "nbconvert_exporter": "python",
   "pygments_lexer": "ipython3",
   "version": "3.9.18"
  }
 },
 "nbformat": 4,
 "nbformat_minor": 2
}
