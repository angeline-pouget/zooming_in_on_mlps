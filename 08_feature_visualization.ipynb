{
 "cells": [
  {
   "cell_type": "markdown",
   "metadata": {},
   "source": [
    "### Activation Maximization"
   ]
  },
  {
   "cell_type": "code",
   "execution_count": null,
   "metadata": {},
   "outputs": [],
   "source": [
    "# These two lines ensure that we always import the latest version of a package, in case it has been modified.\n",
    "%load_ext autoreload\n",
    "%autoreload 2\n",
    "\n",
    "import timm\n",
    "import torch\n",
    "import detectors\n",
    "from torchvision import transforms\n",
    "from utils import vis as vis"
   ]
  },
  {
   "cell_type": "code",
   "execution_count": 2,
   "metadata": {},
   "outputs": [],
   "source": [
    "import os\n",
    "from tqdm import tqdm\n",
    "\n",
    "from data_utils.data_stats import *\n",
    "from models.networks import get_model\n",
    "from data_utils.dataloader import get_loader\n",
    "from data_utils.dataset_to_beton import get_dataset"
   ]
  },
  {
   "cell_type": "code",
   "execution_count": 3,
   "metadata": {},
   "outputs": [],
   "source": [
    "# define important parameters\n",
    "\n",
    "dataset         = 'cifar10'               # One of cifar10, cifar100, stl10, imagenet or imagenet21\n",
    "num_classes     = CLASS_DICT[dataset]\n",
    "data_path       = '/scratch/ffcv'\n",
    "model_path      = '/tmp/zooming_in_on_mlps/'\n",
    "eval_batch_size = 32\n",
    "crop_resolution = 32\n",
    "data_resolution = 32 \n",
    "checkpoint      = None\n",
    "device          = torch.device(\"cuda:0\" if torch.cuda.is_available() else \"cpu\")\n",
    "\n",
    "model_type      = 'mlp'                   \n",
    "checkpoint      = 'in21k_cifar10'       \n",
    "architecture    = 'B_12-Wi_1024'        \n",
    "crop_resolution = 64   "
   ]
  },
  {
   "cell_type": "code",
   "execution_count": 4,
   "metadata": {},
   "outputs": [],
   "source": [
    "def get_models_full(model_type, \n",
    "                    architecture, \n",
    "                    resolution  = crop_resolution, \n",
    "                    num_classes = CLASS_DICT[dataset], \n",
    "                    checkpoint  = checkpoint, \n",
    "                    model_path   = model_path):\n",
    "    if model_type == 'mlp':\n",
    "        model = get_model(architecture=architecture, resolution = resolution, \n",
    "                          num_classes=num_classes,checkpoint= checkpoint)\n",
    "        model = torch.nn.Sequential(vis.Reshape(64), model)\n",
    "    elif model_type == 'cnn':\n",
    "        model = timm.create_model(architecture, pretrained=True)\n",
    "    elif model_type == 'vit':\n",
    "        model = torch.load(os.path.join(model_path, architecture))\n",
    "        model = torch.nn.Sequential(vis.Reshape(224), model)\n",
    "    return model"
   ]
  },
  {
   "cell_type": "code",
   "execution_count": null,
   "metadata": {},
   "outputs": [],
   "source": [
    "\n",
    "model_type      = 'mlp'                   \n",
    "checkpoint      = 'in21k_cifar10'       \n",
    "architecture    = 'B_12-Wi_1024'        \n",
    "crop_resolution = 32 \n",
    "\n",
    "#model_type      = 'vit'                  \n",
    "#architecture    = 'vit_small_patch16_224_' + dataset + '_7.pth'        \n",
    "#crop_resolution = 32 \n",
    "\n",
    "#model_type      = 'cnn'               \n",
    "#architecture    = 'resnet18_' + dataset                      \n",
    "#crop_resolution = 32 \n",
    "\n",
    "\n",
    "# load the models\n",
    "torch.backends.cuda.matmul.allow_tf32 = True\n",
    "device = torch.device(\"cuda:0\" if torch.cuda.is_available() else \"cpu\")\n",
    "\n",
    "model = get_models_full(model_type, architecture)\n",
    "model.to(device)\n",
    "with torch.no_grad():\n",
    "    model.eval()\n",
    "\n",
    "loader = get_loader(\n",
    "        dataset,\n",
    "        bs=eval_batch_size,\n",
    "        mode=\"test\",\n",
    "        augment=False,\n",
    "        dev=device,\n",
    "        mixup=0.0,\n",
    "        data_path=data_path,\n",
    "        data_resolution=data_resolution,\n",
    "        crop_resolution=crop_resolution,\n",
    "    )\n",
    "\n",
    "# for activation maximization. Start from total random noise or use\n",
    "# an initial image instead\n",
    "use_init_image = True\n",
    "\n",
    "# generate image using activation maximization\n",
    "dataiter    = iter(loader)\n",
    "ims, labels = next(dataiter)\n",
    "img         = ims[1].unsqueeze(0)\n",
    "label       = labels[1]\n",
    "\n",
    "if use_init_image == False:\n",
    "    img   = None\n",
    "    label = 0\n",
    "else:\n",
    "    label = label.item()\n",
    "\n",
    "init_image1, synthetic_image1 = vis.generate_image(model        = model, \n",
    "                                     target_class = label,\n",
    "                                     epochs       = 250, \n",
    "                                     min_prob     = 0.9, \n",
    "                                     lr           = .01, \n",
    "                                     weight_decay = 5e-2, \n",
    "                                     step_size    = 100, \n",
    "                                     gamma        = 0.9,\n",
    "                                     noise_size   = crop_resolution,\n",
    "                                     model_type   = model_type,\n",
    "                                     img          = img,\n",
    "                                     dataset      = dataset)"
   ]
  },
  {
   "cell_type": "markdown",
   "metadata": {},
   "source": [
    "### Feature Inversion"
   ]
  },
  {
   "cell_type": "code",
   "execution_count": null,
   "metadata": {},
   "outputs": [],
   "source": [
    "# These two lines ensure that we always import the latest version of a package, in case it has been modified.\n",
    "%load_ext autoreload\n",
    "%autoreload 2\n",
    "\n",
    "import timm\n",
    "import torch\n",
    "import detectors\n",
    "from torchvision import transforms\n",
    "from utils import vis as vis"
   ]
  },
  {
   "cell_type": "code",
   "execution_count": null,
   "metadata": {},
   "outputs": [],
   "source": [
    "import os\n",
    "from tqdm import tqdm\n",
    "\n",
    "from data_utils.data_stats import *\n",
    "from models.networks import get_model\n",
    "from data_utils.dataloader import get_loader\n",
    "from data_utils.dataset_to_beton import get_dataset"
   ]
  },
  {
   "cell_type": "code",
   "execution_count": 3,
   "metadata": {},
   "outputs": [],
   "source": [
    "# define important parameters\n",
    "\n",
    "dataset         = 'cifar10'               # One of cifar10, cifar100, stl10, imagenet or imagenet21\n",
    "num_classes     = CLASS_DICT[dataset]\n",
    "data_path       = '/scratch/ffcv'\n",
    "model_path      = '/scratch/zooming_in_on_mlps'\n",
    "eval_batch_size = 32\n",
    "crop_resolution = 32\n",
    "data_resolution = 32 \n",
    "checkpoint      = None\n",
    "device          = torch.device(\"cuda:0\" if torch.cuda.is_available() else \"cpu\")\n",
    "\n",
    "model_type      = 'mlp'                   \n",
    "checkpoint      = 'in21k_cifar10'       \n",
    "architecture    = 'B_12-Wi_1024'        \n",
    "crop_resolution = 64  "
   ]
  },
  {
   "cell_type": "code",
   "execution_count": 4,
   "metadata": {},
   "outputs": [],
   "source": [
    "def get_models_full(model_type, \n",
    "                    architecture, \n",
    "                    resolution  = crop_resolution, \n",
    "                    num_classes = CLASS_DICT[dataset], \n",
    "                    checkpoint  = checkpoint, \n",
    "                    model_path   = model_path):\n",
    "    if model_type == 'mlp':\n",
    "        model = get_model(architecture=architecture, resolution = resolution, \n",
    "                          num_classes=num_classes,checkpoint= checkpoint)\n",
    "        model = torch.nn.Sequential(vis.Reshape(64), model)\n",
    "    elif model_type == 'cnn':\n",
    "        model = timm.create_model(architecture, pretrained=True)\n",
    "    elif model_type == 'vit':\n",
    "        model = torch.load(os.path.join(model_path, architecture))\n",
    "        model = torch.nn.Sequential(vis.Reshape(224), model)\n",
    "    return model"
   ]
  },
  {
   "cell_type": "code",
   "execution_count": null,
   "metadata": {},
   "outputs": [],
   "source": [
    "#model_type      = 'vit'                  \n",
    "#architecture    = 'vit_small_patch16_224_' + dataset + '_7.pth'        \n",
    "#crop_resolution = 32 \n",
    "\n",
    "#model_type      = 'cnn'               \n",
    "#architecture    = 'resnet18_' + dataset                      \n",
    "#crop_resolution = 32 \n",
    "\n",
    "model_type      = 'mlp'                   \n",
    "checkpoint      = 'in21k_cifar10'       \n",
    "architecture    = 'B_12-Wi_1024'        \n",
    "crop_resolution = 32 \n",
    "\n",
    "# load the model\n",
    "torch.backends.cuda.matmul.allow_tf32 = True\n",
    "device = torch.device(\"cuda:0\" if torch.cuda.is_available() else \"cpu\")\n",
    "\n",
    "model = get_models_full(model_type, architecture)\n",
    "model.to(device)\n",
    "with torch.no_grad():\n",
    "    model.eval()\n",
    "\n",
    "# initialize loader\n",
    "loader = get_loader(\n",
    "        dataset,\n",
    "        bs=eval_batch_size,\n",
    "        mode=\"test\",\n",
    "        augment=False,\n",
    "        dev=device,\n",
    "        mixup=0.0,\n",
    "        data_path=data_path,\n",
    "        data_resolution=data_resolution,\n",
    "        crop_resolution=crop_resolution,\n",
    "    )"
   ]
  },
  {
   "cell_type": "code",
   "execution_count": 6,
   "metadata": {},
   "outputs": [],
   "source": [
    "if model_type == 'cnn':\n",
    "    #modules = ['conv1', 'layer1.0.conv1']\n",
    "    modules = ['layer1.0.conv1']\n",
    "    \n",
    "if model_type == 'vit':\n",
    "    #modules = ['1.blocks.0.mlp.fc1', '1.blocks.1.mlp.fc1']\n",
    "    modules = ['1.blocks.1.mlp.fc1']\n",
    "    \n",
    "if model_type == 'mlp':\n",
    "    #modules = ['1.blocks.0.block.0', '1.blocks.2.block.0']\n",
    "    modules = ['1.blocks.0.block.0']"
   ]
  },
  {
   "cell_type": "code",
   "execution_count": 7,
   "metadata": {},
   "outputs": [],
   "source": [
    "dataiter    = iter(loader)\n",
    "ims, labels = next(dataiter)\n",
    "img         = ims[1].unsqueeze(0)\n",
    "label       = labels[1]"
   ]
  },
  {
   "cell_type": "code",
   "execution_count": null,
   "metadata": {},
   "outputs": [],
   "source": [
    "vis.feature_inversion(model         = model, \n",
    "                      modules_names = modules, \n",
    "                      img           = img,\n",
    "                      noise_size    = crop_resolution,\n",
    "                      epochs        = 350, \n",
    "                      lr            = 1500,\n",
    "                      step_size     = 100,\n",
    "                      gamma         = 0.6,\n",
    "                      mu            = 1e-1,\n",
    "                      device        = device,\n",
    "                      mode          = 1,\n",
    "                      model_type    = model_type)"
   ]
  }
 ],
 "metadata": {
  "kernelspec": {
   "display_name": "ffcv",
   "language": "python",
   "name": "python3"
  },
  "language_info": {
   "codemirror_mode": {
    "name": "ipython",
    "version": 3
   },
   "file_extension": ".py",
   "mimetype": "text/x-python",
   "name": "python",
   "nbconvert_exporter": "python",
   "pygments_lexer": "ipython3",
   "version": "3.9.18"
  }
 },
 "nbformat": 4,
 "nbformat_minor": 2
}
