{
 "cells": [
  {
   "cell_type": "code",
   "execution_count": 134,
   "metadata": {},
   "outputs": [
    {
     "name": "stdout",
     "output_type": "stream",
     "text": [
      "The autoreload extension is already loaded. To reload it, use:\n",
      "  %reload_ext autoreload\n"
     ]
    }
   ],
   "source": [
    "# These two lines ensure that we always import the latest version of a package, in case it has been modified.\n",
    "%load_ext autoreload\n",
    "%autoreload 2\n",
    "\n",
    "import torch\n",
    "from utils import cka as CKA"
   ]
  },
  {
   "cell_type": "code",
   "execution_count": 135,
   "metadata": {},
   "outputs": [],
   "source": [
    "import os\n",
    "from tqdm import tqdm\n",
    "\n",
    "from data_utils.data_stats import *\n",
    "from models.networks import get_model\n",
    "from data_utils.dataloader import get_loader\n",
    "from data_utils.dataset_to_beton import get_dataset"
   ]
  },
  {
   "cell_type": "code",
   "execution_count": 136,
   "metadata": {},
   "outputs": [],
   "source": [
    "# define important parameters\n",
    "\n",
    "dataset         = 'cifar10'               # One of cifar10, cifar100, stl10, imagenet or imagenet21\n",
    "architecture    = 'B_12-Wi_1024'\n",
    "data_resolution = 32                      # Resolution of data as it is stored\n",
    "crop_resolution = 64                      # Resolution of fine-tuned model (64 for all models we provide)\n",
    "num_classes     = CLASS_DICT[dataset]\n",
    "data_path       = '/scratch/ffcv'\n",
    "eval_batch_size = 512\n",
    "checkpoint      = 'in21k_cifar10'         # This means you want the network pre-trained on ImageNet21k and finetuned on CIFAR10\n",
    "\n",
    "cka_internal    = False                   # True: Compute similarities between layers of the same net. False: compare layers across models\n",
    "model1_type     = 'MLP'                   # MLP, CNN, VIT\n",
    "model2_type     = 'MLP'                   # MLP, CNN, VIT"
   ]
  },
  {
   "cell_type": "code",
   "execution_count": 137,
   "metadata": {},
   "outputs": [
    {
     "name": "stdout",
     "output_type": "stream",
     "text": [
      "Weights already downloaded\n",
      "Load_state output <All keys matched successfully>\n",
      "Weights already downloaded\n",
      "Load_state output <All keys matched successfully>\n"
     ]
    }
   ],
   "source": [
    "# load the models\n",
    "torch.backends.cuda.matmul.allow_tf32 = True\n",
    "device = torch.device(\"cuda:0\" if torch.cuda.is_available() else \"cpu\")\n",
    "\n",
    "\n",
    "if cka_internal:\n",
    "    # Define the model and specify the pre-trained weights\n",
    "    model1 = get_model(architecture=architecture, resolution=crop_resolution, num_classes=CLASS_DICT[dataset],\n",
    "                       checkpoint= checkpoint)\n",
    "else:\n",
    "    model1 = get_model(architecture=architecture, resolution=crop_resolution, num_classes=CLASS_DICT[dataset],\n",
    "                       checkpoint= checkpoint)\n",
    "    model2 = get_model(architecture=architecture, resolution=crop_resolution, num_classes=CLASS_DICT[dataset],\n",
    "                       checkpoint= checkpoint)"
   ]
  },
  {
   "cell_type": "code",
   "execution_count": 138,
   "metadata": {},
   "outputs": [
    {
     "name": "stdout",
     "output_type": "stream",
     "text": [
      "Loading /scratch/ffcv/cifar10/val_32.beton\n"
     ]
    }
   ],
   "source": [
    "# Get the custom test loader need to take care of different image sizes. Now fixed only for mlp with 64x64\n",
    "loader = get_loader(\n",
    "    dataset,\n",
    "    bs=eval_batch_size,\n",
    "    mode=\"test\",\n",
    "    augment=False,\n",
    "    dev=device,\n",
    "    mixup=0.0,\n",
    "    data_path=data_path,\n",
    "    data_resolution=data_resolution,\n",
    "    crop_resolution=crop_resolution,\n",
    ")"
   ]
  },
  {
   "cell_type": "code",
   "execution_count": 139,
   "metadata": {},
   "outputs": [],
   "source": [
    "@torch.no_grad()\n",
    "def compute_cka_internal(model, loader, cka, model_type):\n",
    "\n",
    "    model.eval()\n",
    "    #register hooks\n",
    "    activations = {} \n",
    "    CKA.register_hooks(model, activations)\n",
    "    i = 0 \n",
    "    for ims, targs in tqdm(loader, desc=\"Evaluation\"):\n",
    "        \n",
    "        if model_type == 'MLP': ims   = torch.reshape(ims, (ims.shape[0], -1))\n",
    "        CKA.process_batch(model, ims, cka, activations)\n",
    "        \n",
    "    return cka.result()"
   ]
  },
  {
   "cell_type": "code",
   "execution_count": 148,
   "metadata": {},
   "outputs": [],
   "source": [
    "@torch.no_grad()\n",
    "def compute_cka_across(model1, model2, loader, cka, model1_type, mdoel2_type):\n",
    "\n",
    "    model1.eval()\n",
    "    model2.eval()\n",
    "    #register hooks\n",
    "    activations1 = {}\n",
    "    activations2 = {} \n",
    "    CKA.register_hooks(model1, activations1)\n",
    "    CKA.register_hooks(model2, activations2)\n",
    "    \n",
    "    for ims, targs in tqdm(loader, desc=\"Evaluation\"):\n",
    "        \n",
    "        if model1_type == 'MLP': \n",
    "            ims   = torch.reshape(ims, (ims.shape[0], -1))\n",
    "        if model2_type == 'MLP':\n",
    "            pass\n",
    "            print(\"need work\")\n",
    "\n",
    "        acts1 = CKA.get_activations(ims, model1, activations1)\n",
    "        acts2 = CKA.get_activations(ims, model2, activations2)\n",
    "\n",
    "        cka.update_state_across_models(acts1, acts2)\n",
    "        \n",
    "    return cka.result()"
   ]
  },
  {
   "cell_type": "code",
   "execution_count": 149,
   "metadata": {},
   "outputs": [
    {
     "name": "stdout",
     "output_type": "stream",
     "text": [
      "The parameter cka_internal has value False\n",
      "yoooop\n"
     ]
    },
    {
     "name": "stderr",
     "output_type": "stream",
     "text": [
      "Evaluation:   0%|          | 0/20 [00:00<?, ?it/s]"
     ]
    },
    {
     "name": "stdout",
     "output_type": "stream",
     "text": [
      "need work\n"
     ]
    },
    {
     "name": "stderr",
     "output_type": "stream",
     "text": [
      "Evaluation:   0%|          | 0/20 [00:04<?, ?it/s]\n"
     ]
    },
    {
     "data": {
      "image/png": "[encoded data removed]",
      "text/plain": [
       "<Figure size 640x480 with 2 Axes>"
      ]
     },
     "metadata": {},
     "output_type": "display_data"
    }
   ],
   "source": [
    "import matplotlib.pyplot as plt\n",
    "\n",
    "print(\"The parameter cka_internal has value\", cka_internal)\n",
    "if cka_internal:\n",
    "    _, n_layers = CKA.find_layers(model1)\n",
    "    cka         = CKA.MinibatchCKA(n_layers, None, cka_internal)\n",
    "    heatmap     = compute_cka_internal(model1, loader, cka, model1_type) \n",
    "else:\n",
    "    _, n_layers1 = CKA.find_layers(model1)\n",
    "    _, n_layers2 = CKA.find_layers(model2)\n",
    "    cka          = CKA.MinibatchCKA(n_layers1, n_layers2, across_models=True)\n",
    "    heatmap      = compute_cka_across(model1, model2, loader, cka, model1_type, model2_type)\n",
    "\n",
    "heatmap = heatmap.numpy()\n",
    "plt.imshow(heatmap, cmap = 'viridis', origin = 'lower')\n",
    "plt.colorbar()\n",
    "plt.show()"
   ]
  }
 ],
 "metadata": {
  "kernelspec": {
   "display_name": "ffcv",
   "language": "python",
   "name": "python3"
  },
  "language_info": {
   "codemirror_mode": {
    "name": "ipython",
    "version": 3
   },
   "file_extension": ".py",
   "mimetype": "text/x-python",
   "name": "python",
   "nbconvert_exporter": "python",
   "pygments_lexer": "ipython3",
   "version": "3.9.18"
  }
 },
 "nbformat": 4,
 "nbformat_minor": 2
}
