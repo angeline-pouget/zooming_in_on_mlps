{
 "cells": [
  {
   "cell_type": "markdown",
   "metadata": {},
   "source": [
    "# Deep Learning Fall 2023 Course Project - Zooming in on MLPs"
   ]
  },
  {
   "cell_type": "markdown",
   "metadata": {},
   "source": [
    "### Imports"
   ]
  },
  {
   "cell_type": "code",
   "execution_count": 1,
   "metadata": {},
   "outputs": [],
   "source": [
    "import os\n",
    "import torch\n",
    "import timm\n",
    "import detectors\n",
    "\n",
    "from PIL import Image\n",
    "from tqdm import tqdm\n",
    "from torchvision import transforms\n",
    "from ffcv.fields import BytesField, IntField, RGBImageField\n",
    "from ffcv.writer import DatasetWriter\n",
    "from transformers import AutoImageProcessor, AutoModelForImageClassification, ViTFeatureExtractor, ViTForImageClassification\n",
    "\n",
    "from data_utils.data_stats import *\n",
    "from data_utils.dataloader import get_loader\n",
    "from data_utils.dataset_to_beton import get_dataset\n",
    "from models.networks import get_model\n",
    "from utils.metrics import topk_acc, real_acc, AverageMeter"
   ]
  },
  {
   "cell_type": "markdown",
   "metadata": {},
   "source": [
    "### Fetching data loader and model architecture"
   ]
  },
  {
   "cell_type": "code",
   "execution_count": 2,
   "metadata": {},
   "outputs": [],
   "source": [
    "def get_data_and_model(dataset, model, data_path='/scratch/ffcv/'):\n",
    "    \"\"\"\n",
    "    This function retrieves the data, model and feature extractor (if needed) based on the provided information.\n",
    "\n",
    "    Parameters:\n",
    "    dataset (str): The name of the dataset to retrieve (can be cifar10, cifar100 or imagenet).\n",
    "    model (str): The name of the model to retrieve (can be mlp, cnn or vit; only mlp is supported for dataset imagenet).\n",
    "    data_path (str): The path to the data.\n",
    "\n",
    "    Returns (as a tuple):\n",
    "    data_loader (DataLoader): The retrieved data loader.\n",
    "    model (Model): The retrieved model.\n",
    "\n",
    "    Raises:\n",
    "    AssertionError: If the dataset or model is not supported.\n",
    "    \"\"\"\n",
    "\n",
    "    assert dataset in ('cifar10', 'cifar100', 'imagenet'), f'dataset {dataset} is currently not supported by this function'\n",
    "    assert model in ('mlp', 'cnn', 'vit'), f'model {model} is currently not supported by this function'\n",
    "\n",
    "    num_classes = CLASS_DICT[dataset]\n",
    "    eval_batch_size = 1024\n",
    "\n",
    "    if dataset == 'imagenet':\n",
    "        data_resolution = 64\n",
    "        assert model == 'mlp', f'imagenet dataset is only supported by mlp model'\n",
    "    else:\n",
    "        data_resolution = 32\n",
    "\n",
    "    device = torch.device(\"cuda:0\" if torch.cuda.is_available() else \"cpu\")\n",
    "    if device == 'cuda':\n",
    "        torch.backends.cuda.matmul.allow_tf32 = True\n",
    "\n",
    "    if model == 'mlp':\n",
    "        crop_resolution = 64\n",
    "        architecture = 'B_12-Wi_1024'\n",
    "        checkpoint = 'in21k_' + dataset\n",
    "\n",
    "        model = get_model(architecture=architecture, resolution=crop_resolution, num_classes=num_classes, checkpoint=checkpoint)\n",
    "\n",
    "    if model == 'cnn':\n",
    "        crop_resolution = 32\n",
    "        architecture = 'resnet18_' + dataset\n",
    "\n",
    "        model = timm.create_model(architecture, pretrained=True)\n",
    "\n",
    "    if model == 'vit':\n",
    "        crop_resolution = 32\n",
    "\n",
    "        if dataset == 'cifar10':\n",
    "            architecture = 'vit_small_patch16_224_cifar10_v4.pth'\n",
    "            model = torch.load(architecture)\n",
    "\n",
    "        elif dataset == 'cifar100':\n",
    "            architecture = 'vit_small_patch16_224_cifar100_v3.pth'\n",
    "            model = torch.load(architecture)\n",
    "\n",
    "    data_loader = get_loader(\n",
    "        dataset,\n",
    "        bs=eval_batch_size,\n",
    "        mode=\"test\",\n",
    "        augment=False,\n",
    "        dev=device,\n",
    "        mixup=0.0,\n",
    "        data_path=data_path,\n",
    "        data_resolution=data_resolution,\n",
    "        crop_resolution=crop_resolution,\n",
    "    )\n",
    "\n",
    "    return data_loader, model"
   ]
  },
  {
   "cell_type": "markdown",
   "metadata": {},
   "source": [
    "### Evaluating baseline model accuracy"
   ]
  },
  {
   "cell_type": "code",
   "execution_count": 3,
   "metadata": {},
   "outputs": [],
   "source": [
    "# Define a test function that evaluates test accuracy\n",
    "@torch.no_grad()\n",
    "def test(model, loader, is_mlp = False):\n",
    "    model.eval()\n",
    "    total_acc, total_top5 = AverageMeter(), AverageMeter()\n",
    "\n",
    "    for ims, targs in tqdm(loader, desc=\"Evaluation\"):\n",
    "        if is_mlp:\n",
    "            ims = torch.reshape(ims, (ims.shape[0], -1))\n",
    "        \n",
    "        preds = model(ims)    \n",
    "        acc, top5 = topk_acc(preds, targs, k=5, avg=True)\n",
    "        \n",
    "        total_acc.update(acc, ims.shape[0])\n",
    "        total_top5.update(top5, ims.shape[0])\n",
    "\n",
    "    return (\n",
    "        total_acc.get_avg(percentage=True),\n",
    "        total_top5.get_avg(percentage=True),\n",
    "    )"
   ]
  },
  {
   "cell_type": "code",
   "execution_count": 5,
   "metadata": {},
   "outputs": [
    {
     "name": "stdout",
     "output_type": "stream",
     "text": [
      "Weights already downloaded\n",
      "Load_state output <All keys matched successfully>\n",
      "Loading /scratch/ffcv/cifar10/val_32.beton\n"
     ]
    },
    {
     "name": "stderr",
     "output_type": "stream",
     "text": [
      "Evaluation: 100%|██████████| 10/10 [01:06<00:00,  6.65s/it]"
     ]
    },
    {
     "name": "stdout",
     "output_type": "stream",
     "text": [
      "Test Accuracy         94.3900\n",
      "Top 5 Test Accuracy           99.6600\n"
     ]
    },
    {
     "name": "stderr",
     "output_type": "stream",
     "text": [
      "\n"
     ]
    }
   ],
   "source": [
    "data_loader, model = get_data_and_model(dataset='cifar10', model='mlp', data_path='/scratch/ffcv/')\n",
    "test_acc, test_top5 = test(model, data_loader, True)\n",
    "\n",
    "# Print all the stats\n",
    "print(\"Test Accuracy        \", \"{:.4f}\".format(test_acc))\n",
    "print(\"Top 5 Test Accuracy          \", \"{:.4f}\".format(test_top5))"
   ]
  },
  {
   "cell_type": "markdown",
   "metadata": {},
   "source": [
    "### Evaluate adversarial accuracy"
   ]
  },
  {
   "cell_type": "code",
   "execution_count": 24,
   "metadata": {},
   "outputs": [],
   "source": [
    "def denormalize(tensor, mean, std):\n",
    "    \"\"\"\n",
    "    Denormalize a tensor.\n",
    "\n",
    "    Parameters:\n",
    "    tensor (torch.Tensor): The tensor to denormalize.\n",
    "    mean (float or sequence): The mean used for normalization.\n",
    "    std (float or sequence): The standard deviation used for normalization.\n",
    "\n",
    "    Returns:\n",
    "    torch.Tensor: The denormalized tensor.\n",
    "    \"\"\"\n",
    "    return tensor*std[1]+mean[1]\n",
    "\n",
    "def normalize(tensor, mean, std):\n",
    "    \"\"\"\n",
    "    Normalize a tensor.\n",
    "\n",
    "    Parameters:\n",
    "    tensor (torch.Tensor): The tensor to normalize.\n",
    "    mean (float or sequence): The mean used for normalization.\n",
    "    std (float or sequence): The standard deviation used for normalization.\n",
    "\n",
    "    Returns:\n",
    "    torch.Tensor: The normalized tensor.\n",
    "    \"\"\"\n",
    "    return (tensor-mean[1])/std[1]\n",
    "\n",
    "def pgd(model, dataset, x_batch, label, eps, k, eps_step):\n",
    "    \"\"\"\n",
    "    Performs the Projected Gradient Descent (PGD) for adversarial attacks.\n",
    "\n",
    "    Parameters:\n",
    "    model (torch.nn.Module): The model to attack.\n",
    "    dataset (str): The name of the dataset used (can be cifar10, cifar100 or imagenet).\n",
    "    x_batch (torch.Tensor): The input tensor.\n",
    "    label (torch.Tensor): The true labels for the input tensor.\n",
    "    eps (float): The maximum perturbation for PGD.\n",
    "    k (int): The number of steps for PGD.\n",
    "    eps_step (float): The step size for each iteration.\n",
    "\n",
    "    Returns:\n",
    "    torch.Tensor: The adversarially perturbed input tensor.\n",
    "    \"\"\"   \n",
    "    mean, std = MEAN_DICT[dataset]/255, STD_DICT[dataset]/255\n",
    "\n",
    "    x = x_batch.clone().detach_()\n",
    "    x = denormalize(x, mean, std)\n",
    "    x_adv = x + eps * (2*torch.rand_like(x) - 1)\n",
    "    x_adv.clamp_(min=0., max=1.)\n",
    "    \n",
    "    for _ in range(int(k)):\n",
    "        x_adv = normalize(x_adv, mean, std).detach_()\n",
    "        x_adv.requires_grad_()\n",
    "        model.zero_grad()\n",
    "        loss = torch.nn.CrossEntropyLoss()(model(x_adv), label)\n",
    "        loss.backward()\n",
    "        perturbation = eps_step * x_adv.grad.sign()\n",
    "\n",
    "        x_adv = denormalize(x_adv, mean, std)\n",
    "        x_adv = x + (x_adv + perturbation - x).clamp_(min=-eps, max=eps)\n",
    "        x_adv.clamp_(min=0, max=1)\n",
    "\n",
    "    return normalize(x_adv.detach(), mean, std)\n",
    "\n",
    "def fgsm_untargeted(model, dataset, x_batch, label, eps):\n",
    "    \"\"\"\n",
    "    Performs the Fast Gradient Sign Method (FGSM) for untargeted adversarial attacks.\n",
    "\n",
    "    Parameters:\n",
    "    model (torch.nn.Module): The model to attack.\n",
    "    dataset (str): The name of the dataset used (can be cifar10, cifar100 or imagenet).\n",
    "    x_batch (torch.Tensor): The input tensor.\n",
    "    label (torch.Tensor): The true labels for the input tensor.\n",
    "    eps (float): The step size for the FGSM attack.\n",
    "\n",
    "    Returns:\n",
    "    torch.Tensor: The adversarially perturbed input tensor.\n",
    "    \"\"\"\n",
    "    mean, std = MEAN_DICT[dataset]/255, STD_DICT[dataset]/255\n",
    "\n",
    "    x = x_batch.clone().detach_()\n",
    "    x.requires_grad_()\n",
    "    model.zero_grad()\n",
    "    loss = torch.nn.CrossEntropyLoss()(model(x), label)\n",
    "    loss.backward()\n",
    "    perturbation = eps * x.grad.sign()\n",
    "\n",
    "    out = denormalize(x, mean, std) + perturbation\n",
    "    out = out.clamp_(min=0, max=1)\n",
    "        \n",
    "    return normalize(out, mean, std)"
   ]
  },
  {
   "cell_type": "code",
   "execution_count": 25,
   "metadata": {},
   "outputs": [],
   "source": [
    "def test_adversarial(model, dataset, loader, eps, mode, is_mlp = False):\n",
    "    model.eval()\n",
    "    total_adv_acc, total_adv_top5 = AverageMeter(), AverageMeter()\n",
    "\n",
    "    for ims, targs in tqdm(loader, desc=\"Evaluation\"):\n",
    "        if is_mlp:\n",
    "            ims = torch.reshape(ims, (ims.shape[0], -1))\n",
    "        targs = targs\n",
    "        if mode ==\"fgsm\":\n",
    "            adv_ims = fgsm_untargeted(model, dataset, ims, targs, eps)\n",
    "        if mode == \"pgd\":\n",
    "            adv_ims = pgd(model, dataset, ims, targs, eps=eps, k=5, eps_step=eps/2)\n",
    "\n",
    "        adv_preds = model(adv_ims)\n",
    "   \n",
    "        adv_acc, adv_top5 = topk_acc(adv_preds, targs, k=5, avg=True)\n",
    "\n",
    "        total_adv_acc.update(adv_acc, ims.shape[0])\n",
    "        total_adv_top5.update(adv_top5, ims.shape[0])\n",
    "\n",
    "    return (\n",
    "        total_adv_acc.get_avg(percentage=True),\n",
    "        total_adv_top5.get_avg(percentage=True),\n",
    "    )"
   ]
  },
  {
   "cell_type": "code",
   "execution_count": 17,
   "metadata": {},
   "outputs": [
    {
     "name": "stdout",
     "output_type": "stream",
     "text": [
      "Downloading weights...\n"
     ]
    },
    {
     "name": "stderr",
     "output_type": "stream",
     "text": [
      "100% |########################################################################|\n"
     ]
    },
    {
     "name": "stdout",
     "output_type": "stream",
     "text": [
      "Load_state output <All keys matched successfully>\n",
      "Loading /scratch/ffcv/cifar10/val_32.beton\n"
     ]
    },
    {
     "name": "stderr",
     "output_type": "stream",
     "text": [
      "Evaluation: 100%|██████████| 10/10 [03:55<00:00, 23.50s/it]\n",
      "Evaluation: 100%|██████████| 10/10 [03:50<00:00, 23.08s/it]t]\n",
      "Evaluation: 100%|██████████| 10/10 [03:50<00:00, 23.01s/it]t]\n",
      "Evaluation: 100%|██████████| 10/10 [03:49<00:00, 22.96s/it]t]\n",
      "Evaluation: 100%|██████████| 10/10 [03:57<00:00, 23.76s/it]t]\n",
      "Evaluation: 100%|██████████| 10/10 [03:51<00:00, 23.19s/it]t]\n",
      "Evaluation: 100%|██████████| 10/10 [03:49<00:00, 22.97s/it]  \n",
      "Evaluation: 100%|██████████| 10/10 [03:45<00:00, 22.55s/it]\n",
      "Evaluation: 100%|██████████| 10/10 [03:47<00:00, 22.80s/it]\n",
      "Evaluation: 100%|██████████| 10/10 [03:51<00:00, 23.18s/it]\n",
      "Evaluation: 100%|██████████| 10/10 [03:40<00:00, 22.03s/it]]\n",
      "Evaluation: 100%|██████████| 10/10 [03:45<00:00, 22.53s/it]]\n",
      "Evaluation: 100%|██████████| 10/10 [03:44<00:00, 22.43s/it]]\n",
      "Evaluation: 100%|██████████| 10/10 [03:45<00:00, 22.55s/it]]\n",
      "Evaluation: 100%|██████████| 10/10 [03:44<00:00, 22.47s/it]]\n",
      "Evaluation: 100%|██████████| 10/10 [03:44<00:00, 22.47s/it]]\n",
      "Evaluation: 100%|██████████| 10/10 [03:44<00:00, 22.43s/it]it]\n",
      "Evaluation: 100%|██████████| 10/10 [03:48<00:00, 22.81s/it]it]\n",
      "Evaluation: 100%|██████████| 10/10 [03:48<00:00, 22.82s/it]it]\n",
      "Evaluation: 100%|██████████| 10/10 [03:52<00:00, 23.23s/it]it]\n",
      "Evaluation: 100%|██████████| 10/10 [03:50<00:00, 23.08s/it]it]\n",
      "Evaluating: 100%|██████████| 21/21 [1:19:59<00:00, 228.53s/it]\n"
     ]
    }
   ],
   "source": [
    "adv_acc = []\n",
    "adv_top5 = []\n",
    "\n",
    "data_loader, model = get_data_and_model(dataset='cifar10', model='mlp', data_path='/scratch/ffcv/')\n",
    "all_eps = np.arange(0,0.26,0.0125)\n",
    "\n",
    "for eps in tqdm(all_eps, desc=\"Evaluating\"):\n",
    "    test_adv_acc, test_adv_top5 = test_adversarial(model, 'cifar10', data_loader, eps, 'fgsm', is_mlp = True)\n",
    "\n",
    "    adv_acc.append(test_adv_acc)\n",
    "    adv_top5.append(test_adv_top5)\n",
    "\n",
    "# Print all the stats\n",
    "# print(\"Adversarial Accuracy        \", \"{:.4f}\".format(test_adv_acc))\n",
    "# print(\"Top 5 Adversarial Accuracy          \", \"{:.4f}\".format(test_adv_top5))"
   ]
  },
  {
   "cell_type": "code",
   "execution_count": 7,
   "metadata": {},
   "outputs": [
    {
     "name": "stdout",
     "output_type": "stream",
     "text": [
      "[79.97999999046326, 26.019999980926514, 17.889999980926515, 14.369999964237213, 11.999999961853028, 9.590000011920928, 7.930000001192093, 6.429999980330467, 5.309999993443489, 4.2399999833107, 3.5700000020861626, 3.169999997019768, 2.8200000017881393, 2.5799999967217446, 2.2399999964237214, 1.9400000011920928, 1.8099999986588955, 1.769999996125698, 1.630000001192093, 1.6399999964237213, 1.540000001490116] [94.95999968528747, 46.41999990940094, 34.599999828338625, 30.959999990463256, 27.91000002861023, 24.249999928474427, 20.80999999284744, 17.940000023841858, 15.400000002384186, 13.429999947547913, 11.879999955892563, 10.56000000357628, 9.559999978542328, 8.67999996304512, 7.960000001192093, 7.36999997138977, 7.149999976158142, 6.849999995231628, 6.599999995231628, 6.429999985694885, 6.169999990463257]\n"
     ]
    }
   ],
   "source": [
    "print(adv_acc, adv_top5) # CIFAR100 MLP"
   ]
  },
  {
   "cell_type": "code",
   "execution_count": 18,
   "metadata": {},
   "outputs": [
    {
     "name": "stdout",
     "output_type": "stream",
     "text": [
      "[94.39, 61.31000010490418, 55.89999980926514, 52.53999994277954, 48.87999988079071, 44.86, 39.48999993801117, 34.859999876022336, 30.559999980926513, 26.619999890327453, 23.53, 21.01999995470047, 19.069999947547913, 17.229999935626985, 16.15999995946884, 14.920000030994416, 13.999999933242798, 13.309999961853027, 12.599999995231629, 11.92999997496605, 11.639999984502792] [99.66, 78.31999968528747, 74.15000004768372, 74.39999980926514, 74.96000002861022, 74.4499997329712, 73.23999975204468, 70.98000008583068, 68.38999971389771, 65.31999968528747, 62.62000004768372, 60.399999675750735, 58.35999976158142, 57.17000003814697, 55.95999984741211, 55.42000011444092, 54.83999989509582, 54.289999895095825, 54.280000104904175, 54.08999990463257, 54.09999988555908]\n"
     ]
    }
   ],
   "source": [
    "print(adv_acc, adv_top5) # CIFAR10 MLP"
   ]
  },
  {
   "cell_type": "code",
   "execution_count": 22,
   "metadata": {},
   "outputs": [
    {
     "data": {
      "text/plain": [
       "(0.0, 100.0)"
      ]
     },
     "execution_count": 22,
     "metadata": {},
     "output_type": "execute_result"
    },
    {
     "data": {
      "image/png": "[encoded data removed]",
      "text/plain": [
       "<Figure size 640x480 with 1 Axes>"
      ]
     },
     "metadata": {},
     "output_type": "display_data"
    }
   ],
   "source": [
    "import matplotlib.pyplot as plt\n",
    "\n",
    "plt.plot(all_eps, adv_acc)\n",
    "#plt.plot(all_eps, adv_acc_cnn)\n",
    "plt.plot(all_eps, len(all_eps)*[10])\n",
    "plt.ylim(0, 100)"
   ]
  },
  {
   "cell_type": "code",
   "execution_count": 20,
   "metadata": {},
   "outputs": [],
   "source": [
    "avd_acc = np.array(adv_acc)\n",
    "adv_top5 = np.array(adv_top5)"
   ]
  },
  {
   "cell_type": "code",
   "execution_count": 21,
   "metadata": {},
   "outputs": [],
   "source": [
    "np.save('adv_acc_mlp_cifar10', adv_acc)\n",
    "np.save('adv_top5_mlp_cifar10', adv_top5)"
   ]
  },
  {
   "cell_type": "markdown",
   "metadata": {},
   "source": [
    "## Marcel's part\n",
    "Run cells 1, 2, 5 & 6 before this and change data_path below"
   ]
  },
  {
   "cell_type": "code",
   "execution_count": 26,
   "metadata": {},
   "outputs": [
    {
     "name": "stdout",
     "output_type": "stream",
     "text": [
      "Weights already downloaded\n",
      "Load_state output <All keys matched successfully>\n",
      "Loading /scratch/ffcv/cifar10/val_32.beton\n"
     ]
    },
    {
     "name": "stderr",
     "output_type": "stream",
     "text": [
      "Evaluation:   0%|          | 0/10 [01:15<?, ?it/s]\n",
      "Evaluating:   0%|          | 0/21 [01:15<?, ?it/s]\n"
     ]
    },
    {
     "ename": "KeyboardInterrupt",
     "evalue": "",
     "output_type": "error",
     "traceback": [
      "\u001b[0;31m---------------------------------------------------------------------------\u001b[0m",
      "\u001b[0;31mKeyboardInterrupt\u001b[0m                         Traceback (most recent call last)",
      "Cell \u001b[0;32mIn[26], line 11\u001b[0m\n\u001b[1;32m      8\u001b[0m all_eps \u001b[38;5;241m=\u001b[39m np\u001b[38;5;241m.\u001b[39marange(\u001b[38;5;241m0\u001b[39m,\u001b[38;5;241m0.26\u001b[39m,\u001b[38;5;241m0.0125\u001b[39m)\n\u001b[1;32m     10\u001b[0m \u001b[38;5;28;01mfor\u001b[39;00m eps \u001b[38;5;129;01min\u001b[39;00m tqdm(all_eps, desc\u001b[38;5;241m=\u001b[39m\u001b[38;5;124m\"\u001b[39m\u001b[38;5;124mEvaluating\u001b[39m\u001b[38;5;124m\"\u001b[39m):\n\u001b[0;32m---> 11\u001b[0m     test_adv_acc, test_adv_top5 \u001b[38;5;241m=\u001b[39m \u001b[43mtest_adversarial\u001b[49m\u001b[43m(\u001b[49m\u001b[43mmodel\u001b[49m\u001b[43m,\u001b[49m\u001b[43m \u001b[49m\u001b[43mdataset\u001b[49m\u001b[43m,\u001b[49m\u001b[43m \u001b[49m\u001b[43mdata_loader\u001b[49m\u001b[43m,\u001b[49m\u001b[43m \u001b[49m\u001b[43meps\u001b[49m\u001b[43m,\u001b[49m\u001b[43m \u001b[49m\u001b[38;5;124;43m'\u001b[39;49m\u001b[38;5;124;43mpgd\u001b[39;49m\u001b[38;5;124;43m'\u001b[39;49m\u001b[43m,\u001b[49m\u001b[43m \u001b[49m\u001b[43mis_mlp\u001b[49m\u001b[43m \u001b[49m\u001b[38;5;241;43m=\u001b[39;49m\u001b[43m \u001b[49m\u001b[43mis_mlp\u001b[49m\u001b[43m)\u001b[49m\n\u001b[1;32m     13\u001b[0m     adv_acc\u001b[38;5;241m.\u001b[39mappend(test_adv_acc)\n\u001b[1;32m     14\u001b[0m     adv_top5\u001b[38;5;241m.\u001b[39mappend(test_adv_top5)\n",
      "Cell \u001b[0;32mIn[25], line 12\u001b[0m, in \u001b[0;36mtest_adversarial\u001b[0;34m(model, dataset, loader, eps, mode, is_mlp)\u001b[0m\n\u001b[1;32m     10\u001b[0m     adv_ims \u001b[38;5;241m=\u001b[39m fgsm_untargeted(model, dataset, ims, targs, eps)\n\u001b[1;32m     11\u001b[0m \u001b[38;5;28;01mif\u001b[39;00m mode \u001b[38;5;241m==\u001b[39m \u001b[38;5;124m\"\u001b[39m\u001b[38;5;124mpgd\u001b[39m\u001b[38;5;124m\"\u001b[39m:\n\u001b[0;32m---> 12\u001b[0m     adv_ims \u001b[38;5;241m=\u001b[39m \u001b[43mpgd\u001b[49m\u001b[43m(\u001b[49m\u001b[43mmodel\u001b[49m\u001b[43m,\u001b[49m\u001b[43m \u001b[49m\u001b[43mdataset\u001b[49m\u001b[43m,\u001b[49m\u001b[43m \u001b[49m\u001b[43mims\u001b[49m\u001b[43m,\u001b[49m\u001b[43m \u001b[49m\u001b[43mtargs\u001b[49m\u001b[43m,\u001b[49m\u001b[43m \u001b[49m\u001b[43meps\u001b[49m\u001b[38;5;241;43m=\u001b[39;49m\u001b[43meps\u001b[49m\u001b[43m,\u001b[49m\u001b[43m \u001b[49m\u001b[43mk\u001b[49m\u001b[38;5;241;43m=\u001b[39;49m\u001b[38;5;241;43m5\u001b[39;49m\u001b[43m,\u001b[49m\u001b[43m \u001b[49m\u001b[43meps_step\u001b[49m\u001b[38;5;241;43m=\u001b[39;49m\u001b[43meps\u001b[49m\u001b[38;5;241;43m/\u001b[39;49m\u001b[38;5;241;43m2\u001b[39;49m\u001b[43m)\u001b[49m\n\u001b[1;32m     14\u001b[0m adv_preds \u001b[38;5;241m=\u001b[39m model(adv_ims)\n\u001b[1;32m     16\u001b[0m adv_acc, adv_top5 \u001b[38;5;241m=\u001b[39m topk_acc(adv_preds, targs, k\u001b[38;5;241m=\u001b[39m\u001b[38;5;241m5\u001b[39m, avg\u001b[38;5;241m=\u001b[39m\u001b[38;5;28;01mTrue\u001b[39;00m)\n",
      "Cell \u001b[0;32mIn[24], line 57\u001b[0m, in \u001b[0;36mpgd\u001b[0;34m(model, dataset, x_batch, label, eps, k, eps_step)\u001b[0m\n\u001b[1;32m     55\u001b[0m model\u001b[38;5;241m.\u001b[39mzero_grad()\n\u001b[1;32m     56\u001b[0m loss \u001b[38;5;241m=\u001b[39m torch\u001b[38;5;241m.\u001b[39mnn\u001b[38;5;241m.\u001b[39mCrossEntropyLoss()(model(x_adv), label)\n\u001b[0;32m---> 57\u001b[0m \u001b[43mloss\u001b[49m\u001b[38;5;241;43m.\u001b[39;49m\u001b[43mbackward\u001b[49m\u001b[43m(\u001b[49m\u001b[43m)\u001b[49m\n\u001b[1;32m     58\u001b[0m perturbation \u001b[38;5;241m=\u001b[39m eps_step \u001b[38;5;241m*\u001b[39m x_adv\u001b[38;5;241m.\u001b[39mgrad\u001b[38;5;241m.\u001b[39msign()\n\u001b[1;32m     60\u001b[0m x_adv \u001b[38;5;241m=\u001b[39m denormalize(x_adv, mean, std)\n",
      "File \u001b[0;32m~/miniconda3/envs/ffcv/lib/python3.9/site-packages/torch/_tensor.py:492\u001b[0m, in \u001b[0;36mTensor.backward\u001b[0;34m(self, gradient, retain_graph, create_graph, inputs)\u001b[0m\n\u001b[1;32m    482\u001b[0m \u001b[38;5;28;01mif\u001b[39;00m has_torch_function_unary(\u001b[38;5;28mself\u001b[39m):\n\u001b[1;32m    483\u001b[0m     \u001b[38;5;28;01mreturn\u001b[39;00m handle_torch_function(\n\u001b[1;32m    484\u001b[0m         Tensor\u001b[38;5;241m.\u001b[39mbackward,\n\u001b[1;32m    485\u001b[0m         (\u001b[38;5;28mself\u001b[39m,),\n\u001b[0;32m   (...)\u001b[0m\n\u001b[1;32m    490\u001b[0m         inputs\u001b[38;5;241m=\u001b[39minputs,\n\u001b[1;32m    491\u001b[0m     )\n\u001b[0;32m--> 492\u001b[0m \u001b[43mtorch\u001b[49m\u001b[38;5;241;43m.\u001b[39;49m\u001b[43mautograd\u001b[49m\u001b[38;5;241;43m.\u001b[39;49m\u001b[43mbackward\u001b[49m\u001b[43m(\u001b[49m\n\u001b[1;32m    493\u001b[0m \u001b[43m    \u001b[49m\u001b[38;5;28;43mself\u001b[39;49m\u001b[43m,\u001b[49m\u001b[43m \u001b[49m\u001b[43mgradient\u001b[49m\u001b[43m,\u001b[49m\u001b[43m \u001b[49m\u001b[43mretain_graph\u001b[49m\u001b[43m,\u001b[49m\u001b[43m \u001b[49m\u001b[43mcreate_graph\u001b[49m\u001b[43m,\u001b[49m\u001b[43m \u001b[49m\u001b[43minputs\u001b[49m\u001b[38;5;241;43m=\u001b[39;49m\u001b[43minputs\u001b[49m\n\u001b[1;32m    494\u001b[0m \u001b[43m\u001b[49m\u001b[43m)\u001b[49m\n",
      "File \u001b[0;32m~/miniconda3/envs/ffcv/lib/python3.9/site-packages/torch/autograd/__init__.py:251\u001b[0m, in \u001b[0;36mbackward\u001b[0;34m(tensors, grad_tensors, retain_graph, create_graph, grad_variables, inputs)\u001b[0m\n\u001b[1;32m    246\u001b[0m     retain_graph \u001b[38;5;241m=\u001b[39m create_graph\n\u001b[1;32m    248\u001b[0m \u001b[38;5;66;03m# The reason we repeat the same comment below is that\u001b[39;00m\n\u001b[1;32m    249\u001b[0m \u001b[38;5;66;03m# some Python versions print out the first line of a multi-line function\u001b[39;00m\n\u001b[1;32m    250\u001b[0m \u001b[38;5;66;03m# calls in the traceback and some print out the last line\u001b[39;00m\n\u001b[0;32m--> 251\u001b[0m \u001b[43mVariable\u001b[49m\u001b[38;5;241;43m.\u001b[39;49m\u001b[43m_execution_engine\u001b[49m\u001b[38;5;241;43m.\u001b[39;49m\u001b[43mrun_backward\u001b[49m\u001b[43m(\u001b[49m\u001b[43m  \u001b[49m\u001b[38;5;66;43;03m# Calls into the C++ engine to run the backward pass\u001b[39;49;00m\n\u001b[1;32m    252\u001b[0m \u001b[43m    \u001b[49m\u001b[43mtensors\u001b[49m\u001b[43m,\u001b[49m\n\u001b[1;32m    253\u001b[0m \u001b[43m    \u001b[49m\u001b[43mgrad_tensors_\u001b[49m\u001b[43m,\u001b[49m\n\u001b[1;32m    254\u001b[0m \u001b[43m    \u001b[49m\u001b[43mretain_graph\u001b[49m\u001b[43m,\u001b[49m\n\u001b[1;32m    255\u001b[0m \u001b[43m    \u001b[49m\u001b[43mcreate_graph\u001b[49m\u001b[43m,\u001b[49m\n\u001b[1;32m    256\u001b[0m \u001b[43m    \u001b[49m\u001b[43minputs\u001b[49m\u001b[43m,\u001b[49m\n\u001b[1;32m    257\u001b[0m \u001b[43m    \u001b[49m\u001b[43mallow_unreachable\u001b[49m\u001b[38;5;241;43m=\u001b[39;49m\u001b[38;5;28;43;01mTrue\u001b[39;49;00m\u001b[43m,\u001b[49m\n\u001b[1;32m    258\u001b[0m \u001b[43m    \u001b[49m\u001b[43maccumulate_grad\u001b[49m\u001b[38;5;241;43m=\u001b[39;49m\u001b[38;5;28;43;01mTrue\u001b[39;49;00m\u001b[43m,\u001b[49m\n\u001b[1;32m    259\u001b[0m \u001b[43m\u001b[49m\u001b[43m)\u001b[49m\n",
      "\u001b[0;31mKeyboardInterrupt\u001b[0m: "
     ]
    }
   ],
   "source": [
    "for model in ['mlp', 'cnn']:\n",
    "    for dataset in ['cifar10', 'cifar100']:\n",
    "        is_mlp = model == 'mlp'\n",
    "\n",
    "        adv_acc = []\n",
    "        adv_top5 = []\n",
    "        data_loader, model = get_data_and_model(dataset=dataset, model=model, data_path='/scratch/ffcv/')\n",
    "        all_eps = np.arange(0,0.26,0.0125)\n",
    "\n",
    "        for eps in tqdm(all_eps, desc=\"Evaluating\"):\n",
    "            test_adv_acc, test_adv_top5 = test_adversarial(model, dataset, data_loader, eps, 'pgd', is_mlp = is_mlp)\n",
    "\n",
    "            adv_acc.append(test_adv_acc)\n",
    "            adv_top5.append(test_adv_top5)\n",
    "\n",
    "        acc_fname = 'pgd_acc_' + model + '_' + dataset\n",
    "        top5_fname = 'pgd_top5_' + model + '_' + dataset\n",
    "        \n",
    "        np.save(acc_fname, np.array(adv_acc))\n",
    "        np.save(top5_fname, np.array(adv_top5))"
   ]
  },
  {
   "cell_type": "code",
   "execution_count": null,
   "metadata": {},
   "outputs": [],
   "source": []
  }
 ],
 "metadata": {
  "kernelspec": {
   "display_name": "Python 3",
   "language": "python",
   "name": "python3"
  },
  "language_info": {
   "codemirror_mode": {
    "name": "ipython",
    "version": 3
   },
   "file_extension": ".py",
   "mimetype": "text/x-python",
   "name": "python",
   "nbconvert_exporter": "python",
   "pygments_lexer": "ipython3",
   "version": "3.9.18"
  }
 },
 "nbformat": 4,
 "nbformat_minor": 2
}
